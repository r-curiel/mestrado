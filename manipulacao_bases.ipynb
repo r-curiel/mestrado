{
 "cells": [
  {
   "cell_type": "code",
   "execution_count": 1,
   "metadata": {},
   "outputs": [],
   "source": [
    "import pandas as pd\n",
    "import os"
   ]
  },
  {
   "cell_type": "code",
   "execution_count": 2,
   "metadata": {},
   "outputs": [],
   "source": [
    "root = os.getcwd()"
   ]
  },
  {
   "cell_type": "code",
   "execution_count": 14,
   "metadata": {},
   "outputs": [],
   "source": [
    "municipios = pd.read_csv(root + '/base_dados/municipios.csv')\n",
    "estados = pd.read_csv(root + '/base_dados/estados.csv')\n",
    "\n",
    "df = pd.merge(municipios, estados, on='codigo_uf', how='left')\n",
    "df = df[['codigo_ibge', 'nome_x', 'latitude_x', 'longitude_x', 'uf', 'nome_y', 'regiao']]\n",
    "df.columns = ['codigo_ibge', 'nome', 'latitude', 'longitude', 'uf', 'estado', 'regiao']\n",
    "df.to_csv(root + '/base_dados/municipios_estados.csv', index=False, sep=';', encoding='utf-8')"
   ]
  }
 ],
 "metadata": {
  "kernelspec": {
   "display_name": "base",
   "language": "python",
   "name": "python3"
  },
  "language_info": {
   "codemirror_mode": {
    "name": "ipython",
    "version": 3
   },
   "file_extension": ".py",
   "mimetype": "text/x-python",
   "name": "python",
   "nbconvert_exporter": "python",
   "pygments_lexer": "ipython3",
   "version": "3.11.5"
  }
 },
 "nbformat": 4,
 "nbformat_minor": 2
}
